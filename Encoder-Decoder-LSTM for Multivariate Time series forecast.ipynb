{
 "cells": [
  {
   "cell_type": "markdown",
   "metadata": {},
   "source": [
    "### Import Modules"
   ]
  },
  {
   "cell_type": "code",
   "execution_count": 342,
   "metadata": {},
   "outputs": [],
   "source": [
    "# multivariate multi-step encoder-decoder lstm for the power usage dataset\n",
    "from math import sqrt\n",
    "from numpy import split\n",
    "from numpy import array\n",
    "import numpy as np\n",
    "import pandas as pd\n",
    "from pandas import read_csv\n",
    "from sklearn.metrics import mean_squared_error\n",
    "from matplotlib import pyplot\n",
    "from tensorflow.keras.models import Sequential\n",
    "from tensorflow.keras.layers import Dense\n",
    "from tensorflow.keras.layers import LSTM\n",
    "from tensorflow.keras.layers import RepeatVector\n",
    "from tensorflow.keras.layers import TimeDistributed\n"
   ]
  },
  {
   "cell_type": "markdown",
   "metadata": {},
   "source": [
    "### Utils"
   ]
  },
  {
   "cell_type": "code",
   "execution_count": 343,
   "metadata": {},
   "outputs": [],
   "source": [
    "# split a univariate dataset into train/test sets\n",
    "def split_dataset(data,split_ratio):\n",
    "    size = len(data)\n",
    "    proportion = int(split_ratio*size)\n",
    "    \n",
    "    train, test = data[0:proportion], data[proportion:]\n",
    "    train,test = array(split(train, 1)),array(split(test, 1))\n",
    "    \n",
    "    return train, test\n",
    "\n",
    "# convert history into inputs and outputs\n",
    "def to_supervised(train, n_input, n_out=7):\n",
    "    # flatten data\n",
    "    data = train.reshape((train.shape[0]*train.shape[1], train.shape[2]))\n",
    "    X, y = list(), list()\n",
    "    in_start = 0\n",
    "    # step over the entire history one time step at a time\n",
    "    for _ in range(len(data)):\n",
    "        # define the end of the input sequence\n",
    "        in_end = in_start + n_input\n",
    "        out_end = in_end + n_out\n",
    "        # ensure we have enough data for this instance\n",
    "        if out_end <= len(data):\n",
    "            X.append(data[in_start:in_end, :])\n",
    "            y.append(data[in_end:out_end, 0])\n",
    "        # move along one time step\n",
    "        in_start += 1\n",
    "    return array(X), array(y)\n",
    "\n"
   ]
  },
  {
   "cell_type": "markdown",
   "metadata": {},
   "source": [
    "### Funcion para construir el modelo"
   ]
  },
  {
   "cell_type": "code",
   "execution_count": 356,
   "metadata": {},
   "outputs": [],
   "source": [
    "# train the model\n",
    "def build_model(train, n_input,n_output,config):\n",
    "    # prepare data\n",
    "    train_x, train_y = to_supervised(train, n_input,n_output)\n",
    "    \n",
    "    # define parameters\n",
    "    verbose, epochs, batch_size = config[0],config[1],config[2]\n",
    "    \n",
    "    n_timesteps, n_features, n_outputs = train_x.shape[1], train_x.shape[2], train_y.shape[1]\n",
    "    \n",
    "    # reshape output into [samples, timesteps, features]\n",
    "    train_y = train_y.reshape((train_y.shape[0], train_y.shape[1], 1))\n",
    "    \n",
    "    # define model\n",
    "    model = Sequential()\n",
    "    model.add(LSTM(1000, activation='relu', input_shape=(n_timesteps, n_features)))\n",
    "    model.add(RepeatVector(n_outputs))\n",
    "    model.add(LSTM(450, activation='relu', return_sequences=True))\n",
    "    model.add(TimeDistributed(Dense(300, activation='relu')))\n",
    "    model.add(TimeDistributed(Dense(200, activation='relu')))\n",
    "    model.add(TimeDistributed(Dense(100, activation='relu')))\n",
    "    model.add(TimeDistributed(Dense(1)))\n",
    "    model.compile(loss='mse', optimizer='adam')\n",
    "    \n",
    "    # fit network\n",
    "    model.fit(train_x, train_y, epochs=epochs, batch_size=batch_size, verbose=verbose)\n",
    "    \n",
    "    return model\n",
    "\n"
   ]
  },
  {
   "cell_type": "markdown",
   "metadata": {},
   "source": [
    "### Carga de datos"
   ]
  },
  {
   "cell_type": "code",
   "execution_count": 374,
   "metadata": {
    "scrolled": true
   },
   "outputs": [
    {
     "data": {
      "text/plain": [
       "(2369, 51)"
      ]
     },
     "execution_count": 374,
     "metadata": {},
     "output_type": "execute_result"
    }
   ],
   "source": [
    "dataset = pd.read_csv('Datasets/vw_emisiones_unificado.csv',\n",
    "                      header=0, infer_datetime_format=True, parse_dates=['fecha'], index_col=['fecha'])\n",
    "dataset.shape"
   ]
  },
  {
   "cell_type": "code",
   "execution_count": 375,
   "metadata": {},
   "outputs": [
    {
     "data": {
      "text/html": [
       "<div>\n",
       "<style scoped>\n",
       "    .dataframe tbody tr th:only-of-type {\n",
       "        vertical-align: middle;\n",
       "    }\n",
       "\n",
       "    .dataframe tbody tr th {\n",
       "        vertical-align: top;\n",
       "    }\n",
       "\n",
       "    .dataframe thead th {\n",
       "        text-align: right;\n",
       "    }\n",
       "</style>\n",
       "<table border=\"1\" class=\"dataframe\">\n",
       "  <thead>\n",
       "    <tr style=\"text-align: right;\">\n",
       "      <th></th>\n",
       "      <th>pm_10</th>\n",
       "      <th>pm_25</th>\n",
       "      <th>pm_pst</th>\n",
       "      <th>velocidad_viento</th>\n",
       "      <th>direccion_viento</th>\n",
       "      <th>temperatura</th>\n",
       "      <th>humedad</th>\n",
       "      <th>presion_barometrica</th>\n",
       "      <th>radiacion_solar</th>\n",
       "      <th>precipitacion</th>\n",
       "      <th>...</th>\n",
       "      <th>pm_10_difference</th>\n",
       "      <th>pm_25_10</th>\n",
       "      <th>pm_25_10_1</th>\n",
       "      <th>pm_25_10_difference</th>\n",
       "      <th>pm_25_difference</th>\n",
       "      <th>pm_25_difference_2</th>\n",
       "      <th>pm_10_difference_2</th>\n",
       "      <th>pm_25_difference_3</th>\n",
       "      <th>pm_10_difference_3</th>\n",
       "      <th>day_nigth</th>\n",
       "    </tr>\n",
       "    <tr>\n",
       "      <th>fecha</th>\n",
       "      <th></th>\n",
       "      <th></th>\n",
       "      <th></th>\n",
       "      <th></th>\n",
       "      <th></th>\n",
       "      <th></th>\n",
       "      <th></th>\n",
       "      <th></th>\n",
       "      <th></th>\n",
       "      <th></th>\n",
       "      <th></th>\n",
       "      <th></th>\n",
       "      <th></th>\n",
       "      <th></th>\n",
       "      <th></th>\n",
       "      <th></th>\n",
       "      <th></th>\n",
       "      <th></th>\n",
       "      <th></th>\n",
       "      <th></th>\n",
       "      <th></th>\n",
       "    </tr>\n",
       "  </thead>\n",
       "  <tbody>\n",
       "    <tr>\n",
       "      <th>2019-11-11 01:00:00</th>\n",
       "      <td>50.0</td>\n",
       "      <td>13.0</td>\n",
       "      <td>43.0</td>\n",
       "      <td>0.642</td>\n",
       "      <td>157.139999</td>\n",
       "      <td>19.410000</td>\n",
       "      <td>86.480003</td>\n",
       "      <td>940.150024</td>\n",
       "      <td>45.480000</td>\n",
       "      <td>0.0</td>\n",
       "      <td>...</td>\n",
       "      <td>26.0</td>\n",
       "      <td>37.0</td>\n",
       "      <td>24.0</td>\n",
       "      <td>13.0</td>\n",
       "      <td>13.0</td>\n",
       "      <td>13.0</td>\n",
       "      <td>34.0</td>\n",
       "      <td>13.0</td>\n",
       "      <td>7.0</td>\n",
       "      <td>n</td>\n",
       "    </tr>\n",
       "    <tr>\n",
       "      <th>2019-11-11 02:00:00</th>\n",
       "      <td>54.0</td>\n",
       "      <td>15.0</td>\n",
       "      <td>38.0</td>\n",
       "      <td>0.728</td>\n",
       "      <td>151.979996</td>\n",
       "      <td>19.490000</td>\n",
       "      <td>86.160004</td>\n",
       "      <td>939.340027</td>\n",
       "      <td>45.250000</td>\n",
       "      <td>0.0</td>\n",
       "      <td>...</td>\n",
       "      <td>34.0</td>\n",
       "      <td>39.0</td>\n",
       "      <td>20.0</td>\n",
       "      <td>19.0</td>\n",
       "      <td>15.0</td>\n",
       "      <td>-5.0</td>\n",
       "      <td>34.0</td>\n",
       "      <td>-12.0</td>\n",
       "      <td>21.0</td>\n",
       "      <td>n</td>\n",
       "    </tr>\n",
       "    <tr>\n",
       "      <th>2019-11-11 03:00:00</th>\n",
       "      <td>72.0</td>\n",
       "      <td>16.0</td>\n",
       "      <td>50.0</td>\n",
       "      <td>1.070</td>\n",
       "      <td>109.699997</td>\n",
       "      <td>19.530001</td>\n",
       "      <td>85.949997</td>\n",
       "      <td>938.989990</td>\n",
       "      <td>43.270000</td>\n",
       "      <td>0.0</td>\n",
       "      <td>...</td>\n",
       "      <td>44.0</td>\n",
       "      <td>56.0</td>\n",
       "      <td>28.0</td>\n",
       "      <td>28.0</td>\n",
       "      <td>16.0</td>\n",
       "      <td>0.0</td>\n",
       "      <td>44.0</td>\n",
       "      <td>16.0</td>\n",
       "      <td>32.0</td>\n",
       "      <td>n</td>\n",
       "    </tr>\n",
       "    <tr>\n",
       "      <th>2019-11-11 04:00:00</th>\n",
       "      <td>66.0</td>\n",
       "      <td>21.0</td>\n",
       "      <td>49.0</td>\n",
       "      <td>1.660</td>\n",
       "      <td>121.970001</td>\n",
       "      <td>19.520000</td>\n",
       "      <td>85.989998</td>\n",
       "      <td>938.960022</td>\n",
       "      <td>44.070000</td>\n",
       "      <td>0.0</td>\n",
       "      <td>...</td>\n",
       "      <td>16.0</td>\n",
       "      <td>45.0</td>\n",
       "      <td>50.0</td>\n",
       "      <td>-5.0</td>\n",
       "      <td>21.0</td>\n",
       "      <td>2.0</td>\n",
       "      <td>44.0</td>\n",
       "      <td>-1.0</td>\n",
       "      <td>28.0</td>\n",
       "      <td>n</td>\n",
       "    </tr>\n",
       "    <tr>\n",
       "      <th>2019-11-11 05:00:00</th>\n",
       "      <td>51.0</td>\n",
       "      <td>26.0</td>\n",
       "      <td>43.0</td>\n",
       "      <td>1.520</td>\n",
       "      <td>118.570007</td>\n",
       "      <td>19.410000</td>\n",
       "      <td>86.589996</td>\n",
       "      <td>939.059998</td>\n",
       "      <td>43.740002</td>\n",
       "      <td>0.0</td>\n",
       "      <td>...</td>\n",
       "      <td>3.0</td>\n",
       "      <td>25.0</td>\n",
       "      <td>48.0</td>\n",
       "      <td>-23.0</td>\n",
       "      <td>26.0</td>\n",
       "      <td>5.0</td>\n",
       "      <td>23.0</td>\n",
       "      <td>5.0</td>\n",
       "      <td>10.0</td>\n",
       "      <td>n</td>\n",
       "    </tr>\n",
       "  </tbody>\n",
       "</table>\n",
       "<p>5 rows × 51 columns</p>\n",
       "</div>"
      ],
      "text/plain": [
       "                     pm_10  pm_25  pm_pst  velocidad_viento  direccion_viento  \\\n",
       "fecha                                                                           \n",
       "2019-11-11 01:00:00   50.0   13.0    43.0             0.642        157.139999   \n",
       "2019-11-11 02:00:00   54.0   15.0    38.0             0.728        151.979996   \n",
       "2019-11-11 03:00:00   72.0   16.0    50.0             1.070        109.699997   \n",
       "2019-11-11 04:00:00   66.0   21.0    49.0             1.660        121.970001   \n",
       "2019-11-11 05:00:00   51.0   26.0    43.0             1.520        118.570007   \n",
       "\n",
       "                     temperatura    humedad  presion_barometrica  \\\n",
       "fecha                                                              \n",
       "2019-11-11 01:00:00    19.410000  86.480003           940.150024   \n",
       "2019-11-11 02:00:00    19.490000  86.160004           939.340027   \n",
       "2019-11-11 03:00:00    19.530001  85.949997           938.989990   \n",
       "2019-11-11 04:00:00    19.520000  85.989998           938.960022   \n",
       "2019-11-11 05:00:00    19.410000  86.589996           939.059998   \n",
       "\n",
       "                     radiacion_solar  precipitacion  ...  pm_10_difference  \\\n",
       "fecha                                                ...                     \n",
       "2019-11-11 01:00:00        45.480000            0.0  ...              26.0   \n",
       "2019-11-11 02:00:00        45.250000            0.0  ...              34.0   \n",
       "2019-11-11 03:00:00        43.270000            0.0  ...              44.0   \n",
       "2019-11-11 04:00:00        44.070000            0.0  ...              16.0   \n",
       "2019-11-11 05:00:00        43.740002            0.0  ...               3.0   \n",
       "\n",
       "                     pm_25_10  pm_25_10_1  pm_25_10_difference  \\\n",
       "fecha                                                            \n",
       "2019-11-11 01:00:00      37.0        24.0                 13.0   \n",
       "2019-11-11 02:00:00      39.0        20.0                 19.0   \n",
       "2019-11-11 03:00:00      56.0        28.0                 28.0   \n",
       "2019-11-11 04:00:00      45.0        50.0                 -5.0   \n",
       "2019-11-11 05:00:00      25.0        48.0                -23.0   \n",
       "\n",
       "                     pm_25_difference  pm_25_difference_2  pm_10_difference_2  \\\n",
       "fecha                                                                           \n",
       "2019-11-11 01:00:00              13.0                13.0                34.0   \n",
       "2019-11-11 02:00:00              15.0                -5.0                34.0   \n",
       "2019-11-11 03:00:00              16.0                 0.0                44.0   \n",
       "2019-11-11 04:00:00              21.0                 2.0                44.0   \n",
       "2019-11-11 05:00:00              26.0                 5.0                23.0   \n",
       "\n",
       "                     pm_25_difference_3  pm_10_difference_3  day_nigth  \n",
       "fecha                                                                   \n",
       "2019-11-11 01:00:00                13.0                 7.0          n  \n",
       "2019-11-11 02:00:00               -12.0                21.0          n  \n",
       "2019-11-11 03:00:00                16.0                32.0          n  \n",
       "2019-11-11 04:00:00                -1.0                28.0          n  \n",
       "2019-11-11 05:00:00                 5.0                10.0          n  \n",
       "\n",
       "[5 rows x 51 columns]"
      ]
     },
     "execution_count": 375,
     "metadata": {},
     "output_type": "execute_result"
    }
   ],
   "source": [
    "dataset.head()"
   ]
  },
  {
   "cell_type": "markdown",
   "metadata": {},
   "source": [
    "### Seleccionar columnas"
   ]
  },
  {
   "cell_type": "code",
   "execution_count": 376,
   "metadata": {},
   "outputs": [
    {
     "data": {
      "text/html": [
       "<div>\n",
       "<style scoped>\n",
       "    .dataframe tbody tr th:only-of-type {\n",
       "        vertical-align: middle;\n",
       "    }\n",
       "\n",
       "    .dataframe tbody tr th {\n",
       "        vertical-align: top;\n",
       "    }\n",
       "\n",
       "    .dataframe thead th {\n",
       "        text-align: right;\n",
       "    }\n",
       "</style>\n",
       "<table border=\"1\" class=\"dataframe\">\n",
       "  <thead>\n",
       "    <tr style=\"text-align: right;\">\n",
       "      <th></th>\n",
       "      <th>pm_10</th>\n",
       "      <th>direccion_viento</th>\n",
       "      <th>humedad</th>\n",
       "      <th>presion_barometrica</th>\n",
       "      <th>radiacion_solar</th>\n",
       "    </tr>\n",
       "    <tr>\n",
       "      <th>fecha</th>\n",
       "      <th></th>\n",
       "      <th></th>\n",
       "      <th></th>\n",
       "      <th></th>\n",
       "      <th></th>\n",
       "    </tr>\n",
       "  </thead>\n",
       "  <tbody>\n",
       "    <tr>\n",
       "      <th>2019-11-11 01:00:00</th>\n",
       "      <td>50.0</td>\n",
       "      <td>157.139999</td>\n",
       "      <td>86.480003</td>\n",
       "      <td>940.150024</td>\n",
       "      <td>45.480000</td>\n",
       "    </tr>\n",
       "    <tr>\n",
       "      <th>2019-11-11 02:00:00</th>\n",
       "      <td>54.0</td>\n",
       "      <td>151.979996</td>\n",
       "      <td>86.160004</td>\n",
       "      <td>939.340027</td>\n",
       "      <td>45.250000</td>\n",
       "    </tr>\n",
       "    <tr>\n",
       "      <th>2019-11-11 03:00:00</th>\n",
       "      <td>72.0</td>\n",
       "      <td>109.699997</td>\n",
       "      <td>85.949997</td>\n",
       "      <td>938.989990</td>\n",
       "      <td>43.270000</td>\n",
       "    </tr>\n",
       "    <tr>\n",
       "      <th>2019-11-11 04:00:00</th>\n",
       "      <td>66.0</td>\n",
       "      <td>121.970001</td>\n",
       "      <td>85.989998</td>\n",
       "      <td>938.960022</td>\n",
       "      <td>44.070000</td>\n",
       "    </tr>\n",
       "    <tr>\n",
       "      <th>2019-11-11 05:00:00</th>\n",
       "      <td>51.0</td>\n",
       "      <td>118.570007</td>\n",
       "      <td>86.589996</td>\n",
       "      <td>939.059998</td>\n",
       "      <td>43.740002</td>\n",
       "    </tr>\n",
       "  </tbody>\n",
       "</table>\n",
       "</div>"
      ],
      "text/plain": [
       "                     pm_10  direccion_viento    humedad  presion_barometrica  \\\n",
       "fecha                                                                          \n",
       "2019-11-11 01:00:00   50.0        157.139999  86.480003           940.150024   \n",
       "2019-11-11 02:00:00   54.0        151.979996  86.160004           939.340027   \n",
       "2019-11-11 03:00:00   72.0        109.699997  85.949997           938.989990   \n",
       "2019-11-11 04:00:00   66.0        121.970001  85.989998           938.960022   \n",
       "2019-11-11 05:00:00   51.0        118.570007  86.589996           939.059998   \n",
       "\n",
       "                     radiacion_solar  \n",
       "fecha                                 \n",
       "2019-11-11 01:00:00        45.480000  \n",
       "2019-11-11 02:00:00        45.250000  \n",
       "2019-11-11 03:00:00        43.270000  \n",
       "2019-11-11 04:00:00        44.070000  \n",
       "2019-11-11 05:00:00        43.740002  "
      ]
     },
     "execution_count": 376,
     "metadata": {},
     "output_type": "execute_result"
    }
   ],
   "source": [
    "columns = ['pm_10','direccion_viento','humedad','presion_barometrica','radiacion_solar']\n",
    "dataset = dataset[columns]\n",
    "dataset.head()"
   ]
  },
  {
   "cell_type": "markdown",
   "metadata": {},
   "source": [
    "### Pipeline para normalizar datos"
   ]
  },
  {
   "cell_type": "code",
   "execution_count": 377,
   "metadata": {},
   "outputs": [],
   "source": [
    "from sklearn.pipeline import Pipeline\n",
    "from sklearn.preprocessing import MinMaxScaler\n",
    "from sklearn.impute import SimpleImputer\n",
    "from sklearn.compose import ColumnTransformer\n",
    "\n",
    "min_max_scl = MinMaxScaler()\n",
    "min_max_scl = min_max_scl.fit(dataset)\n",
    "\n",
    "pm10_pipeline = Pipeline([\n",
    "                            ('pm10_scaler',MinMaxScaler()),\n",
    "                            ('imputer',SimpleImputer(strategy = 'median'))\n",
    "                        ])\n",
    "\n",
    "exog_pipeline = Pipeline([\n",
    "                            ('feature_scaler',MinMaxScaler()),\n",
    "                            ('imputer',SimpleImputer(strategy = 'median'))\n",
    "                        ])\n",
    "\n",
    "full_pipeline = ColumnTransformer([\n",
    "                                    (\"target\",pm10_pipeline,['pm_10']),\n",
    "                                    (\"feature\",exog_pipeline,columns[1:])\n",
    "                                ])\n",
    "# dataset.direccion_viento = dataPrep_pipeline.fit_transform(dataset.direccion_viento.values.reshape(-1,1))\n",
    "norm_dataset = full_pipeline.fit_transform(dataset)"
   ]
  },
  {
   "cell_type": "markdown",
   "metadata": {},
   "source": [
    "### Separar el set de datos "
   ]
  },
  {
   "cell_type": "code",
   "execution_count": 378,
   "metadata": {
    "scrolled": false
   },
   "outputs": [],
   "source": [
    "train, test = split_dataset(norm_dataset,0.8)"
   ]
  },
  {
   "cell_type": "code",
   "execution_count": 379,
   "metadata": {
    "scrolled": true
   },
   "outputs": [
    {
     "name": "stdout",
     "output_type": "stream",
     "text": [
      "Train on 1892 samples\n",
      "Epoch 1/15\n",
      "1892/1892 [==============================] - 14s 7ms/sample - loss: 0.0162\n",
      "Epoch 2/15\n",
      "1892/1892 [==============================] - 13s 7ms/sample - loss: 0.0120\n",
      "Epoch 3/15\n",
      "1892/1892 [==============================] - 13s 7ms/sample - loss: 0.0114\n",
      "Epoch 4/15\n",
      "1892/1892 [==============================] - 13s 7ms/sample - loss: 0.0117\n",
      "Epoch 5/15\n",
      "1892/1892 [==============================] - 13s 7ms/sample - loss: 0.0108\n",
      "Epoch 6/15\n",
      "1892/1892 [==============================] - 13s 7ms/sample - loss: 0.0110\n",
      "Epoch 7/15\n",
      "1892/1892 [==============================] - 13s 7ms/sample - loss: 0.0109\n",
      "Epoch 8/15\n",
      "1892/1892 [==============================] - 13s 7ms/sample - loss: 0.0105\n",
      "Epoch 9/15\n",
      "1892/1892 [==============================] - 13s 7ms/sample - loss: 0.0109\n",
      "Epoch 10/15\n",
      "1892/1892 [==============================] - 13s 7ms/sample - loss: 0.0106\n",
      "Epoch 11/15\n",
      "1892/1892 [==============================] - 13s 7ms/sample - loss: 0.0105\n",
      "Epoch 12/15\n",
      "1892/1892 [==============================] - 13s 7ms/sample - loss: 0.0106\n",
      "Epoch 13/15\n",
      "1892/1892 [==============================] - 13s 7ms/sample - loss: 0.0107\n",
      "Epoch 14/15\n",
      "1892/1892 [==============================] - 14s 7ms/sample - loss: 0.0102\n",
      "Epoch 15/15\n",
      "1892/1892 [==============================] - 14s 8ms/sample - loss: 0.0103\n"
     ]
    }
   ],
   "source": [
    "n_input,n_output = 3,1\n",
    "epochs = 15\n",
    "verbose = True\n",
    "batch_size = 12\n",
    "config = (verbose,epochs,batch_size)\n",
    "model = build_model(train,n_input,n_output,config)"
   ]
  },
  {
   "cell_type": "markdown",
   "metadata": {},
   "source": [
    "### Model Evaluation"
   ]
  },
  {
   "cell_type": "code",
   "execution_count": 386,
   "metadata": {},
   "outputs": [],
   "source": [
    "test_x, test_y = to_supervised(test,n_input, n_output)"
   ]
  },
  {
   "cell_type": "code",
   "execution_count": 387,
   "metadata": {},
   "outputs": [],
   "source": [
    "prediction = model.predict(test_x)"
   ]
  },
  {
   "cell_type": "code",
   "execution_count": 388,
   "metadata": {},
   "outputs": [],
   "source": [
    "min_max_scl_pm10 = MinMaxScaler().fit(dataset.pm_10.values.reshape(-1,1))"
   ]
  },
  {
   "cell_type": "code",
   "execution_count": 389,
   "metadata": {
    "scrolled": false
   },
   "outputs": [],
   "source": [
    "prediction = min_max_scl_pm10.inverse_transform(prediction[:,0])\n",
    "test_y = min_max_scl_pm10.inverse_transform(test_y)"
   ]
  },
  {
   "cell_type": "code",
   "execution_count": 394,
   "metadata": {},
   "outputs": [
    {
     "data": {
      "text/plain": [
       "Text(0.5, 1.0, 'Predicción de PM10')"
      ]
     },
     "execution_count": 394,
     "metadata": {},
     "output_type": "execute_result"
    },
    {
     "data": {
      "image/png": "[encoded data removed]",
      "text/plain": [
       "<Figure size 720x720 with 1 Axes>"
      ]
     },
     "metadata": {
      "needs_background": "light"
     },
     "output_type": "display_data"
    }
   ],
   "source": [
    "import matplotlib.pyplot as plt\n",
    "fig_size = (10,10)\n",
    "# plt.plot()\n",
    "# plt.plot(test_y,color = 'blue')\n",
    "# plt.plt(test_y)\n",
    "fig, ax1 = plt.subplots(1, 1, figsize=fig_size)\n",
    "fig.suptitle('Evaluación del modelo')\n",
    "\n",
    "ax1.plot(test_y[75:175,0],color = 'black',marker = 'o',linestyle = '-')\n",
    "\n",
    "ax1.plot(prediction[75:175,0],color = 'red',marker = 'o',linestyle = '-')\n",
    "# ax1.axhline(y=mean_error,color = 'orange')\n",
    "# ax1.axhline(y=max_error,color = 'red')\n",
    "ax1.set_xlabel('Hora[h]')\n",
    "ax1.set_ylabel('Concentración promedio')\n",
    "ax1.legend(['Predicción PM10','PM10 Real'])\n",
    "ax1.set_title('Predicción de PM10')\n"
   ]
  },
  {
   "cell_type": "code",
   "execution_count": 391,
   "metadata": {
    "scrolled": true
   },
   "outputs": [
    {
     "data": {
      "text/plain": [
       "43.528495467682625"
      ]
     },
     "execution_count": 391,
     "metadata": {},
     "output_type": "execute_result"
    }
   ],
   "source": [
    "np.sqrt(np.mean((prediction-test_y)**2))"
   ]
  },
  {
   "cell_type": "markdown",
   "metadata": {},
   "source": [
    "### Evaluation visualization"
   ]
  }
 ],
 "metadata": {
  "kernelspec": {
   "display_name": "Python 3",
   "language": "python",
   "name": "python3"
  },
  "language_info": {
   "codemirror_mode": {
    "name": "ipython",
    "version": 3
   },
   "file_extension": ".py",
   "mimetype": "text/x-python",
   "name": "python",
   "nbconvert_exporter": "python",
   "pygments_lexer": "ipython3",
   "version": "3.7.0"
  }
 },
 "nbformat": 4,
 "nbformat_minor": 2
}
